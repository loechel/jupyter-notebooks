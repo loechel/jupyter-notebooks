{
 "cells": [
  {
   "cell_type": "code",
   "execution_count": null,
   "metadata": {
    "collapsed": false
   },
   "outputs": [],
   "source": [
    "from redmine import Redmine"
   ]
  },
  {
   "cell_type": "code",
   "execution_count": null,
   "metadata": {
    "collapsed": false
   },
   "outputs": [],
   "source": [
    "redmine = Redmine(\n",
    "    'https://www.scm.verwaltung.uni-muenchen.de/internetdienste/',\n",
    "    #'https://localhost/internetdienste/',\n",
    "    #username='admin',\n",
    "    #password='admin',\n",
    "    key='',\n",
    "    raise_attr_exception=False,\n",
    "    requests={'verify': False})"
   ]
  },
  {
   "cell_type": "code",
   "execution_count": null,
   "metadata": {
    "collapsed": false
   },
   "outputs": [],
   "source": [
    "all_projects = redmine.project.all()"
   ]
  },
  {
   "cell_type": "code",
   "execution_count": null,
   "metadata": {
    "collapsed": false
   },
   "outputs": [],
   "source": [
    "for project in all_projects:\n",
    "    print(\"Update Project: {id} (Status: {status})\".format(id=project.identifier, status=project.status))\n",
    "    if project.status == 1:\n",
    "        project.is_public = True\n",
    "        success = project.save()\n",
    "        print(\"Update Project: {id} to set it public: {success}\".format(id=project.identifier, success=success))\n",
    "    "
   ]
  }
 ],
 "metadata": {
  "kernelspec": {
   "display_name": "Python 3.5 with python-redmine",
   "language": "python",
   "name": "other-env"
  },
  "language_info": {
   "codemirror_mode": {
    "name": "ipython",
    "version": 3
   },
   "file_extension": ".py",
   "mimetype": "text/x-python",
   "name": "python",
   "nbconvert_exporter": "python",
   "pygments_lexer": "ipython3",
   "version": "3.5.1"
  }
 },
 "nbformat": 4,
 "nbformat_minor": 0
}
