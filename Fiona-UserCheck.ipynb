{
 "cells": [
  {
   "cell_type": "code",
   "execution_count": null,
   "metadata": {
    "collapsed": false
   },
   "outputs": [],
   "source": [
    "from redmine import Redmine\n",
    "\n",
    "import pandas as pd\n",
    "import numpy as np\n",
    "import matplotlib.pyplot as plt\n",
    "\n",
    "import csv"
   ]
  },
  {
   "cell_type": "code",
   "execution_count": null,
   "metadata": {
    "collapsed": false
   },
   "outputs": [],
   "source": [
    "redmine = Redmine(\n",
    "    'https://www.scm.verwaltung.uni-muenchen.de/internetdienste/',\n",
    "    #'https://localhost/internetdienste/',\n",
    "    #username='admin',\n",
    "    #password='admin',\n",
    "    key='',\n",
    "    requests={'verify': False})"
   ]
  },
  {
   "cell_type": "code",
   "execution_count": null,
   "metadata": {
    "collapsed": false
   },
   "outputs": [],
   "source": [
    "login_data = set()\n",
    "with open('userLogins-2016-03-07.csv', 'r', newline='') as csvfile:\n",
    "    login_reader = csv.DictReader(csvfile, dialect='excel')\n",
    "    for row in login_reader:\n",
    "        login_data.add(row['LMU-Benutzerkennung'].lower().strip())\n"
   ]
  },
  {
   "cell_type": "code",
   "execution_count": null,
   "metadata": {
    "collapsed": false
   },
   "outputs": [],
   "source": [
    "group_data = set()\n",
    "with open('dumpFionaGruppenUsers_20160407.csv', 'r', newline='') as csvfile:\n",
    "    group_reader = csv.DictReader(csvfile, delimiter=';')\n",
    "    for row in group_reader:\n",
    "        for name in row['Mitglieder'].lower().strip().split(','):\n",
    "            group_data.add(name)"
   ]
  },
  {
   "cell_type": "code",
   "execution_count": null,
   "metadata": {
    "collapsed": true
   },
   "outputs": [],
   "source": [
    "group_data.remove('')"
   ]
  },
  {
   "cell_type": "code",
   "execution_count": null,
   "metadata": {
    "collapsed": true
   },
   "outputs": [],
   "source": [
    "not_logged_in = group_data - login_data"
   ]
  },
  {
   "cell_type": "code",
   "execution_count": null,
   "metadata": {
    "collapsed": false
   },
   "outputs": [],
   "source": [
    "len(not_logged_in)"
   ]
  },
  {
   "cell_type": "code",
   "execution_count": null,
   "metadata": {
    "collapsed": true
   },
   "outputs": [],
   "source": [
    "_all_contacts = redmine.contact.all()"
   ]
  },
  {
   "cell_type": "code",
   "execution_count": null,
   "metadata": {
    "collapsed": false
   },
   "outputs": [],
   "source": [
    "contacts = {}\n",
    "for contact in _all_contacts:\n",
    "    cp = contact.custom_fields.get(7).value\n",
    "    if cp:\n",
    "        cp = cp.lower()\n",
    "        contacts[cp] = contact"
   ]
  },
  {
   "cell_type": "code",
   "execution_count": null,
   "metadata": {
    "collapsed": false
   },
   "outputs": [],
   "source": [
    "len(contacts)"
   ]
  },
  {
   "cell_type": "code",
   "execution_count": null,
   "metadata": {
    "collapsed": false
   },
   "outputs": [],
   "source": [
    "for cp in not_logged_in:\n",
    "    if cp in contacts.keys():\n",
    "        taglist = contacts[cp].tag_list\n",
    "        taglist.append('UserCheck')\n",
    "        redmine.contact.update(contacts[cp].id, tag_list=taglist)"
   ]
  },
  {
   "cell_type": "code",
   "execution_count": null,
   "metadata": {
    "collapsed": true
   },
   "outputs": [],
   "source": [
    "new_contacts = group_data - set(contacts.keys())"
   ]
  },
  {
   "cell_type": "code",
   "execution_count": null,
   "metadata": {
    "collapsed": false
   },
   "outputs": [],
   "source": [
    "len(new_contacts)"
   ]
  },
  {
   "cell_type": "code",
   "execution_count": null,
   "metadata": {
    "collapsed": false
   },
   "outputs": [],
   "source": [
    "new_contacts"
   ]
  },
  {
   "cell_type": "code",
   "execution_count": null,
   "metadata": {
    "collapsed": true
   },
   "outputs": [],
   "source": []
  }
 ],
 "metadata": {
  "kernelspec": {
   "display_name": "Python 3.5 with python-redmine",
   "language": "python",
   "name": "other-env"
  },
  "language_info": {
   "codemirror_mode": {
    "name": "ipython",
    "version": 3
   },
   "file_extension": ".py",
   "mimetype": "text/x-python",
   "name": "python",
   "nbconvert_exporter": "python",
   "pygments_lexer": "ipython3",
   "version": "3.5.1"
  }
 },
 "nbformat": 4,
 "nbformat_minor": 0
}
